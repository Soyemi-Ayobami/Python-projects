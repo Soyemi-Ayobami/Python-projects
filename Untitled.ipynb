{
 "cells": [
  {
   "cell_type": "markdown",
   "id": "629edc58",
   "metadata": {},
   "source": [
    "## Guess the number game"
   ]
  },
  {
   "cell_type": "code",
   "execution_count": null,
   "id": "f8b4be5f",
   "metadata": {},
   "outputs": [],
   "source": [
    "import random\n",
    "computer_guess = random.randint(1,100)\n",
    "trials = 5\n",
    "print('You have 5 trials to guess my number correct')\n",
    "\n",
    "for i in range(trials):\n",
    "    user_input = int(input('enter a guess: '))\n",
    "    if (user_input == cpmputer_guess -2) or (user_input == computer_guess + 2)):\n",
    "        print('Your guess is not far away, try again')\n",
    "    elif ((user_input - computer_guess) <= 3 or (user_input - computer_guess) > =3)):\n",
    "        print('Your guess is far away, try again')\n",
    "    elif (user_input == computer_guess):\n",
    "        print('Congratulation! Win')\n",
    "          break\n",
    "    else:\n",
    "          print('Try again')"
   ]
  },
  {
   "cell_type": "code",
   "execution_count": null,
   "id": "f0b8e3c5",
   "metadata": {},
   "outputs": [],
   "source": [
    "import random\n",
    "possible_char = \"'QWERTYUIOPASDFGHJKLZXCVBNM, 1234567890-=*%%^^$@##.,asdfghjkl;qwerttyuiopasdfghjklzxcvbn'\"\n",
    "\n",
    "password = ''\n",
    "password_lenght = int(input('enter a password lenght: '))\n",
    "i = 1\n",
    "while (i < = password_lenght):\n",
    "    password += random.choice(possible_char)\n",
    "    i += 1\n",
    "\n",
    "with open('passwords.txt', 'w') as my_file:\n",
    "    my_file.write(password)\n"
   ]
  },
  {
   "cell_type": "code",
   "execution_count": null,
   "id": "31b3b49f",
   "metadata": {},
   "outputs": [],
   "source": []
  },
  {
   "cell_type": "code",
   "execution_count": null,
   "id": "da350fd3",
   "metadata": {},
   "outputs": [],
   "source": []
  },
  {
   "cell_type": "code",
   "execution_count": null,
   "id": "0888616f",
   "metadata": {},
   "outputs": [],
   "source": []
  }
 ],
 "metadata": {
  "kernelspec": {
   "display_name": "Python 3 (ipykernel)",
   "language": "python",
   "name": "python3"
  },
  "language_info": {
   "codemirror_mode": {
    "name": "ipython",
    "version": 3
   },
   "file_extension": ".py",
   "mimetype": "text/x-python",
   "name": "python",
   "nbconvert_exporter": "python",
   "pygments_lexer": "ipython3",
   "version": "3.9.12"
  }
 },
 "nbformat": 4,
 "nbformat_minor": 5
}
