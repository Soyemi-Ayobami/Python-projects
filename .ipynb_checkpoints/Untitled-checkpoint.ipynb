{
 "cells": [
  {
   "cell_type": "markdown",
   "id": "629edc58",
   "metadata": {},
   "source": [
    "## Guess the number game"
   ]
  },
  {
   "cell_type": "code",
   "execution_count": 5,
   "id": "f8b4be5f",
   "metadata": {},
   "outputs": [
    {
     "name": "stdout",
     "output_type": "stream",
     "text": [
      "You have 5 trials to guess my number correct\n"
     ]
    }
   ],
   "source": [
    "import random\n",
    "computer_guess = random.randint(1,100)\n",
    "trials = 5\n",
    "print('You have 5 trials to guess my number correct')\n",
    "\n",
    "for i in range(trials):\n",
    "    user_input = int(input('enter a guess: '))\n",
    "    if (user_input == cpmputer_guess -2 or user_input == computer_guess + 2)):\n",
    "        print('Your guess is not far away, try again')\n",
    "    elif ((user_input - computer_guess) <= 3 or (user_input - computer_guess) > =3:\n",
    "          print('Your guess is far away, try again')\n",
    "    elif (user_)"
   ]
  },
  {
   "cell_type": "code",
   "execution_count": null,
   "id": "f0b8e3c5",
   "metadata": {},
   "outputs": [],
   "source": []
  }
 ],
 "metadata": {
  "kernelspec": {
   "display_name": "Python 3 (ipykernel)",
   "language": "python",
   "name": "python3"
  },
  "language_info": {
   "codemirror_mode": {
    "name": "ipython",
    "version": 3
   },
   "file_extension": ".py",
   "mimetype": "text/x-python",
   "name": "python",
   "nbconvert_exporter": "python",
   "pygments_lexer": "ipython3",
   "version": "3.9.12"
  }
 },
 "nbformat": 4,
 "nbformat_minor": 5
}
