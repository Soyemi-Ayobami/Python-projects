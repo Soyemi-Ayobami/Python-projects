{
 "cells": [
  {
   "cell_type": "code",
   "execution_count": 2,
   "id": "b4bc9193",
   "metadata": {},
   "outputs": [
    {
     "name": "stdout",
     "output_type": "stream",
     "text": [
      "You have 5 trials\n",
      "guess a number between 1 and 50: 45\n",
      "far\n",
      "guess a number between 1 and 50: 12\n",
      "close\n",
      "guess a number between 1 and 50: 40\n",
      "far\n",
      "guess a number between 1 and 50: 30\n",
      "far\n",
      "guess a number between 1 and 50: 20\n",
      "close\n"
     ]
    }
   ],
   "source": [
    "##Write a program that allows a user to gues a number the computer has stored in memory.\n",
    "#The user should be allowed 5 trials to guess corectly .Dont forget to let the user know how many trials the user has.\n",
    "#If the guess is close to the guess,the code should inform the user,if the guess is far away,the code should let the user know,\n",
    "#if the guess is correct,the code should congratualate the user and break.\n",
    "#hint. use the randint method from the random module to get a random number.\n",
    "\n",
    "import random\n",
    "print('You have 5 trials')\n",
    "num = random.randint(1,50)\n",
    "number_of_trails = 5\n",
    "trials = 1\n",
    "while trials <=5:\n",
    "  guess = input('guess a number between 1 and 50: ')\n",
    "  guess = int(guess)\n",
    "\n",
    "  if guess == num:\n",
    "    print('Correct')\n",
    "    break\n",
    "  elif guess < num:\n",
    "     print('close')\n",
    "  elif guess > num:\n",
    "      print('far')\n",
    "  trials += 1\n",
    "  \n"
   ]
  },
  {
   "cell_type": "markdown",
   "id": "ba76f5e1",
   "metadata": {},
   "source": [
    "Generate Random Passwords"
   ]
  },
  {
   "cell_type": "code",
   "execution_count": 9,
   "id": "7fe31c56",
   "metadata": {},
   "outputs": [
    {
     "name": "stdout",
     "output_type": "stream",
     "text": [
      "enter a password lenght: 9\n"
     ]
    }
   ],
   "source": [
    "#Your code should generate a password of at least 8 characters from a combination of characters and store the password in a text file\n",
    "\n",
    "#Hint: Use the choice method from the random module\n",
    "\n",
    "import random\n",
    "possible_char = \"'QWERTYUIOPASDFGHJKLZXCVBNM, 1234567890-=*%%^^$@##.,asdfghjkl;qwerttyuiopasdfghjklzxcvbn'\"\n",
    "\n",
    "password = ''\n",
    "password_lenght = int(input('enter a password lenght: '))\n",
    "i = 1\n",
    "while (i <= password_lenght):\n",
    "    password += random.choice(possible_char)\n",
    "    i += 1\n",
    "\n",
    "with open('passwords.txt', 'w') as my_file:\n",
    "    my_file.write(password)"
   ]
  },
  {
   "cell_type": "code",
   "execution_count": null,
   "id": "6582dd3c",
   "metadata": {},
   "outputs": [],
   "source": []
  }
 ],
 "metadata": {
  "kernelspec": {
   "display_name": "Python 3 (ipykernel)",
   "language": "python",
   "name": "python3"
  },
  "language_info": {
   "codemirror_mode": {
    "name": "ipython",
    "version": 3
   },
   "file_extension": ".py",
   "mimetype": "text/x-python",
   "name": "python",
   "nbconvert_exporter": "python",
   "pygments_lexer": "ipython3",
   "version": "3.9.12"
  }
 },
 "nbformat": 4,
 "nbformat_minor": 5
}
